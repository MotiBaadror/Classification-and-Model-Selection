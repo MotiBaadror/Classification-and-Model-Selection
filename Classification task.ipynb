{
 "cells": [
  {
   "cell_type": "markdown",
   "metadata": {},
   "source": [
    "## Important Imports "
   ]
  },
  {
   "cell_type": "code",
   "execution_count": 11,
   "metadata": {},
   "outputs": [],
   "source": [
    "from pandas import read_csv\n",
    "from pandas import set_option\n",
    "from sklearn.preprocessing import StandardScaler\n",
    "from sklearn.model_selection import train_test_split\n",
    "from sklearn.model_selection import KFold\n",
    "from sklearn.model_selection import cross_val_score\n",
    "from sklearn.model_selection import GridSearchCV\n",
    "from sklearn.metrics import classification_report\n",
    "from sklearn.metrics import confusion_matrix\n",
    "from sklearn.metrics import accuracy_score\n",
    "from sklearn.pipeline import Pipeline\n",
    "from sklearn.linear_model import LogisticRegression\n",
    "from sklearn.tree import DecisionTreeClassifier\n",
    "from sklearn.neighbors import KNeighborsClassifier\n",
    "from sklearn.discriminant_analysis import LinearDiscriminantAnalysis\n",
    "from sklearn.naive_bayes import GaussianNB\n",
    "from sklearn.svm import SVC\n",
    "from sklearn.ensemble import AdaBoostClassifier\n",
    "from sklearn.ensemble import GradientBoostingClassifier\n",
    "from sklearn.ensemble import RandomForestClassifier\n",
    "from sklearn.ensemble import ExtraTreesClassifier\n",
    "from sklearn.model_selection import RandomizedSearchCV\n",
    "%matplotlib inline\n",
    "\n",
    "import warnings\n",
    "warnings.filterwarnings('ignore')\n",
    "from pprint import pprint\n",
    "\n",
    "import pandas as pd\n",
    "import numpy as np\n",
    "from matplotlib import pyplot as plt"
   ]
  },
  {
   "cell_type": "markdown",
   "metadata": {},
   "source": [
    "### Reading dataset"
   ]
  },
  {
   "cell_type": "code",
   "execution_count": 2,
   "metadata": {},
   "outputs": [
    {
     "data": {
      "text/html": [
       "<div>\n",
       "<style scoped>\n",
       "    .dataframe tbody tr th:only-of-type {\n",
       "        vertical-align: middle;\n",
       "    }\n",
       "\n",
       "    .dataframe tbody tr th {\n",
       "        vertical-align: top;\n",
       "    }\n",
       "\n",
       "    .dataframe thead th {\n",
       "        text-align: right;\n",
       "    }\n",
       "</style>\n",
       "<table border=\"1\" class=\"dataframe\">\n",
       "  <thead>\n",
       "    <tr style=\"text-align: right;\">\n",
       "      <th></th>\n",
       "      <th>source</th>\n",
       "      <th>num1</th>\n",
       "      <th>num2</th>\n",
       "      <th>num3</th>\n",
       "      <th>num4</th>\n",
       "      <th>num5</th>\n",
       "      <th>num6</th>\n",
       "      <th>num7</th>\n",
       "      <th>num8</th>\n",
       "      <th>num9</th>\n",
       "      <th>num10</th>\n",
       "    </tr>\n",
       "  </thead>\n",
       "  <tbody>\n",
       "    <tr>\n",
       "      <th>0</th>\n",
       "      <td>0</td>\n",
       "      <td>2</td>\n",
       "      <td>5</td>\n",
       "      <td>2</td>\n",
       "      <td>5</td>\n",
       "      <td>6</td>\n",
       "      <td>2</td>\n",
       "      <td>1</td>\n",
       "      <td>8</td>\n",
       "      <td>1</td>\n",
       "      <td>3</td>\n",
       "    </tr>\n",
       "    <tr>\n",
       "      <th>1</th>\n",
       "      <td>1</td>\n",
       "      <td>1747</td>\n",
       "      <td>1749</td>\n",
       "      <td>1751</td>\n",
       "      <td>1758</td>\n",
       "      <td>1765</td>\n",
       "      <td>1767</td>\n",
       "      <td>1772</td>\n",
       "      <td>1774</td>\n",
       "      <td>1783</td>\n",
       "      <td>1785</td>\n",
       "    </tr>\n",
       "    <tr>\n",
       "      <th>2</th>\n",
       "      <td>2</td>\n",
       "      <td>65056</td>\n",
       "      <td>195168</td>\n",
       "      <td>1561344</td>\n",
       "      <td>7806720</td>\n",
       "      <td>31226880</td>\n",
       "      <td>187361280</td>\n",
       "      <td>749445120</td>\n",
       "      <td>6745006080</td>\n",
       "      <td>6745006080</td>\n",
       "      <td>6745006080</td>\n",
       "    </tr>\n",
       "    <tr>\n",
       "      <th>3</th>\n",
       "      <td>3</td>\n",
       "      <td>2855</td>\n",
       "      <td>2860</td>\n",
       "      <td>2865</td>\n",
       "      <td>2870</td>\n",
       "      <td>2875</td>\n",
       "      <td>2880</td>\n",
       "      <td>2885</td>\n",
       "      <td>2890</td>\n",
       "      <td>2895</td>\n",
       "      <td>2900</td>\n",
       "    </tr>\n",
       "    <tr>\n",
       "      <th>4</th>\n",
       "      <td>4</td>\n",
       "      <td>11440</td>\n",
       "      <td>57200</td>\n",
       "      <td>286000</td>\n",
       "      <td>1430000</td>\n",
       "      <td>7150000</td>\n",
       "      <td>35750000</td>\n",
       "      <td>178750000</td>\n",
       "      <td>893750000</td>\n",
       "      <td>4468750000</td>\n",
       "      <td>22343750000</td>\n",
       "    </tr>\n",
       "  </tbody>\n",
       "</table>\n",
       "</div>"
      ],
      "text/plain": [
       "   source   num1    num2     num3     num4      num5       num6       num7  \\\n",
       "0       0      2       5        2        5         6          2          1   \n",
       "1       1   1747    1749     1751     1758      1765       1767       1772   \n",
       "2       2  65056  195168  1561344  7806720  31226880  187361280  749445120   \n",
       "3       3   2855    2860     2865     2870      2875       2880       2885   \n",
       "4       4  11440   57200   286000  1430000   7150000   35750000  178750000   \n",
       "\n",
       "         num8        num9        num10  \n",
       "0           8           1            3  \n",
       "1        1774        1783         1785  \n",
       "2  6745006080  6745006080   6745006080  \n",
       "3        2890        2895         2900  \n",
       "4   893750000  4468750000  22343750000  "
      ]
     },
     "execution_count": 2,
     "metadata": {},
     "output_type": "execute_result"
    }
   ],
   "source": [
    "data_full=pd.read_csv('dataset.csv')\n",
    "data_full.head()"
   ]
  },
  {
   "cell_type": "code",
   "execution_count": 3,
   "metadata": {},
   "outputs": [
    {
     "data": {
      "text/plain": [
       "(500000, 11)"
      ]
     },
     "execution_count": 3,
     "metadata": {},
     "output_type": "execute_result"
    }
   ],
   "source": [
    "data_full.shape"
   ]
  },
  {
   "cell_type": "code",
   "execution_count": 161,
   "metadata": {},
   "outputs": [
    {
     "data": {
      "text/html": [
       "<div>\n",
       "<style scoped>\n",
       "    .dataframe tbody tr th:only-of-type {\n",
       "        vertical-align: middle;\n",
       "    }\n",
       "\n",
       "    .dataframe tbody tr th {\n",
       "        vertical-align: top;\n",
       "    }\n",
       "\n",
       "    .dataframe thead th {\n",
       "        text-align: right;\n",
       "    }\n",
       "</style>\n",
       "<table border=\"1\" class=\"dataframe\">\n",
       "  <thead>\n",
       "    <tr style=\"text-align: right;\">\n",
       "      <th></th>\n",
       "      <th>num1</th>\n",
       "      <th>num2</th>\n",
       "      <th>num3</th>\n",
       "      <th>num4</th>\n",
       "      <th>num5</th>\n",
       "      <th>num6</th>\n",
       "      <th>num7</th>\n",
       "      <th>num8</th>\n",
       "      <th>num9</th>\n",
       "      <th>num10</th>\n",
       "    </tr>\n",
       "    <tr>\n",
       "      <th>source</th>\n",
       "      <th></th>\n",
       "      <th></th>\n",
       "      <th></th>\n",
       "      <th></th>\n",
       "      <th></th>\n",
       "      <th></th>\n",
       "      <th></th>\n",
       "      <th></th>\n",
       "      <th></th>\n",
       "      <th></th>\n",
       "    </tr>\n",
       "  </thead>\n",
       "  <tbody>\n",
       "    <tr>\n",
       "      <th>0</th>\n",
       "      <td>100000</td>\n",
       "      <td>100000</td>\n",
       "      <td>100000</td>\n",
       "      <td>100000</td>\n",
       "      <td>100000</td>\n",
       "      <td>100000</td>\n",
       "      <td>100000</td>\n",
       "      <td>100000</td>\n",
       "      <td>100000</td>\n",
       "      <td>100000</td>\n",
       "    </tr>\n",
       "    <tr>\n",
       "      <th>1</th>\n",
       "      <td>100000</td>\n",
       "      <td>100000</td>\n",
       "      <td>100000</td>\n",
       "      <td>100000</td>\n",
       "      <td>100000</td>\n",
       "      <td>100000</td>\n",
       "      <td>100000</td>\n",
       "      <td>100000</td>\n",
       "      <td>100000</td>\n",
       "      <td>100000</td>\n",
       "    </tr>\n",
       "    <tr>\n",
       "      <th>2</th>\n",
       "      <td>100000</td>\n",
       "      <td>100000</td>\n",
       "      <td>100000</td>\n",
       "      <td>100000</td>\n",
       "      <td>100000</td>\n",
       "      <td>100000</td>\n",
       "      <td>100000</td>\n",
       "      <td>100000</td>\n",
       "      <td>100000</td>\n",
       "      <td>100000</td>\n",
       "    </tr>\n",
       "    <tr>\n",
       "      <th>3</th>\n",
       "      <td>100000</td>\n",
       "      <td>100000</td>\n",
       "      <td>100000</td>\n",
       "      <td>100000</td>\n",
       "      <td>100000</td>\n",
       "      <td>100000</td>\n",
       "      <td>100000</td>\n",
       "      <td>100000</td>\n",
       "      <td>100000</td>\n",
       "      <td>100000</td>\n",
       "    </tr>\n",
       "    <tr>\n",
       "      <th>4</th>\n",
       "      <td>100000</td>\n",
       "      <td>100000</td>\n",
       "      <td>100000</td>\n",
       "      <td>100000</td>\n",
       "      <td>100000</td>\n",
       "      <td>100000</td>\n",
       "      <td>100000</td>\n",
       "      <td>100000</td>\n",
       "      <td>100000</td>\n",
       "      <td>100000</td>\n",
       "    </tr>\n",
       "  </tbody>\n",
       "</table>\n",
       "</div>"
      ],
      "text/plain": [
       "          num1    num2    num3    num4    num5    num6    num7    num8  \\\n",
       "source                                                                   \n",
       "0       100000  100000  100000  100000  100000  100000  100000  100000   \n",
       "1       100000  100000  100000  100000  100000  100000  100000  100000   \n",
       "2       100000  100000  100000  100000  100000  100000  100000  100000   \n",
       "3       100000  100000  100000  100000  100000  100000  100000  100000   \n",
       "4       100000  100000  100000  100000  100000  100000  100000  100000   \n",
       "\n",
       "          num9   num10  \n",
       "source                  \n",
       "0       100000  100000  \n",
       "1       100000  100000  \n",
       "2       100000  100000  \n",
       "3       100000  100000  \n",
       "4       100000  100000  "
      ]
     },
     "execution_count": 161,
     "metadata": {},
     "output_type": "execute_result"
    }
   ],
   "source": [
    "data_full.groupby(['source']).count()"
   ]
  },
  {
   "cell_type": "markdown",
   "metadata": {},
   "source": [
    "### Important Functions"
   ]
  },
  {
   "cell_type": "code",
   "execution_count": 4,
   "metadata": {},
   "outputs": [],
   "source": [
    "def model_selection_function(data):\n",
    "    seed = 7\n",
    "    X_train=data.iloc[:,1:]\n",
    "    y=data.iloc[:,0]\n",
    "    from sklearn.model_selection import train_test_split\n",
    "    X_train, X_val, Y_train, Y_val = train_test_split(X_train, y, test_size = 0.1, random_state=seed)\n",
    "    from sklearn.preprocessing import StandardScaler\n",
    "    feature_scaler = StandardScaler()\n",
    "    X_train = feature_scaler.fit_transform(X_train)\n",
    "    X_val = feature_scaler.transform(X_val)\n",
    "    num_folds = 10\n",
    "    scoring = 'accuracy'\n",
    "    models = []\n",
    "    models.append(('LR', LogisticRegression()))\n",
    "    models.append(('LDA', LinearDiscriminantAnalysis()))\n",
    "    models.append(('KNN', KNeighborsClassifier()))\n",
    "    models.append(('DecisionTree', DecisionTreeClassifier()))\n",
    "    models.append(('NB', GaussianNB()))\n",
    "    models.append(('RF', RandomForestClassifier()))\n",
    "\n",
    "    results = []\n",
    "    names = []\n",
    "    for name, model in models:\n",
    "        kfold = KFold(n_splits=num_folds, random_state=seed)\n",
    "        cv_results = cross_val_score(model, X_train, Y_train, cv=kfold, scoring=scoring)\n",
    "        results.append(cv_results)\n",
    "        names.append(name)\n",
    "        msg = \"%s %f %f \" % (name, cv_results.mean(), cv_results.std())\n",
    "        print(msg)"
   ]
  },
  {
   "cell_type": "code",
   "execution_count": 8,
   "metadata": {},
   "outputs": [],
   "source": [
    "# data.iloc[:,0]"
   ]
  },
  {
   "cell_type": "code",
   "execution_count": 162,
   "metadata": {},
   "outputs": [
    {
     "data": {
      "text/plain": [
       "count        11\n",
       "unique        1\n",
       "top       False\n",
       "freq         11\n",
       "dtype: object"
      ]
     },
     "execution_count": 162,
     "metadata": {},
     "output_type": "execute_result"
    }
   ],
   "source": [
    "data_full.isnull().any().describe()"
   ]
  },
  {
   "cell_type": "code",
   "execution_count": 5,
   "metadata": {},
   "outputs": [],
   "source": [
    "def tune_Decision_tree(data):\n",
    "    max_depths = list(np.linspace(2000, 2600,7))\n",
    "    min_samples_splits = list(np.linspace(2, 10, 9, endpoint=True,dtype=np.int32))\n",
    "    min_samples_leafs = list(np.linspace(1, 10, 10, endpoint=True, dtype=np.int32))\n",
    "    max_features = list(range(1,data.shape[1]))\n",
    "    random_grid = {\n",
    "            'max_depth': max_depths,\n",
    "            'min_samples_split': min_samples_splits,\n",
    "             'min_samples_leaf': min_samples_leafs,\n",
    "            'max_features': max_features\n",
    "                   }\n",
    "    pprint(random_grid)\n",
    "    seed = 7\n",
    "    X_train=data.iloc[:,1:]\n",
    "    y=data.iloc[:,0]\n",
    "    from sklearn.model_selection import train_test_split\n",
    "    X_train, X_val, Y_train, Y_val = train_test_split(X_train, y, test_size = 0.1, random_state=seed)\n",
    "    from sklearn.preprocessing import StandardScaler\n",
    "    feature_scaler = StandardScaler()\n",
    "    X_train = feature_scaler.fit_transform(X_train)\n",
    "    X_val = feature_scaler.transform(X_val)\n",
    "    model = DecisionTreeClassifier()\n",
    "    dt = RandomizedSearchCV(estimator = model, param_distributions = random_grid, \n",
    "                                   n_iter = 100, cv = 10, verbose=2, random_state=42, n_jobs = -1)\n",
    "    dt.fit(X_train, Y_train)\n",
    "    print(\"Best params of the model \")\n",
    "    pprint(dt.best_params_)\n",
    "    return dt"
   ]
  },
  {
   "cell_type": "code",
   "execution_count": 6,
   "metadata": {},
   "outputs": [],
   "source": [
    "def train_and_test(data,model):\n",
    "    seed = 7\n",
    "    X_train=data.iloc[:,1:]\n",
    "    y=data.iloc[:,0]\n",
    "    from sklearn.model_selection import train_test_split\n",
    "    X_train, X_val, Y_train, Y_val = train_test_split(X_train, y, test_size = 0.1, random_state=seed)\n",
    "    from sklearn.preprocessing import StandardScaler\n",
    "    feature_scaler = StandardScaler()\n",
    "    X_train = feature_scaler.fit_transform(X_train)\n",
    "    X_val = feature_scaler.transform(X_val)\n",
    "    model.fit(X_train,Y_train)\n",
    "    y_pred_X = model.predict(X_train)\n",
    "    train_accuracy=accuracy_score(Y_train, y_pred_X)\n",
    "    print('Training accuracy is {}'.format(train_accuracy))\n",
    "\n",
    "    y_pred_Val = model.predict(X_val)\n",
    "    test_accuracy=accuracy_score(Y_val, y_pred_Val)\n",
    "    print('Test accuracy is {}'.format(test_accuracy))\n",
    "    return train_accuracy,test_accuracy"
   ]
  },
  {
   "cell_type": "code",
   "execution_count": 248,
   "metadata": {},
   "outputs": [],
   "source": [
    "def train_and_test_cv(data, model):\n",
    "    X_train=data.iloc[:,1:]\n",
    "    y=data.iloc[:,0]\n",
    "    from sklearn.model_selection import train_test_split\n",
    "    X_train, X_val, Y_train, Y_val = train_test_split(X_train, y, test_size = 0.1, random_state=seed)\n",
    "    from sklearn.preprocessing import StandardScaler\n",
    "    feature_scaler = StandardScaler()\n",
    "    X_train = feature_scaler.fit_transform(X_train)\n",
    "    X_val = feature_scaler.transform(X_val)\n",
    "    num_folds=10\n",
    "    kfold = KFold(n_splits=num_folds, random_state=seed)\n",
    "    result=cross_val_score(model, X_train, Y_train, cv=kfold, scoring=scoring)\n",
    "    print(result)"
   ]
  },
  {
   "cell_type": "markdown",
   "metadata": {},
   "source": [
    "### Boxplot for checking outlier"
   ]
  },
  {
   "cell_type": "code",
   "execution_count": 86,
   "metadata": {},
   "outputs": [
    {
     "data": {
      "text/plain": [
       "<matplotlib.axes._subplots.AxesSubplot at 0x28dc2abc4a8>"
      ]
     },
     "execution_count": 86,
     "metadata": {},
     "output_type": "execute_result"
    },
    {
     "data": {
      "image/png": "[encoded data removed]",
      "text/plain": [
       "<Figure size 432x288 with 1 Axes>"
      ]
     },
     "metadata": {
      "needs_background": "light"
     },
     "output_type": "display_data"
    }
   ],
   "source": [
    "import seaborn as sns\n",
    "sns.boxplot(x=data['num1'])"
   ]
  },
  {
   "cell_type": "code",
   "execution_count": 87,
   "metadata": {},
   "outputs": [
    {
     "data": {
      "text/html": [
       "<div>\n",
       "<style scoped>\n",
       "    .dataframe tbody tr th:only-of-type {\n",
       "        vertical-align: middle;\n",
       "    }\n",
       "\n",
       "    .dataframe tbody tr th {\n",
       "        vertical-align: top;\n",
       "    }\n",
       "\n",
       "    .dataframe thead th {\n",
       "        text-align: right;\n",
       "    }\n",
       "</style>\n",
       "<table border=\"1\" class=\"dataframe\">\n",
       "  <thead>\n",
       "    <tr style=\"text-align: right;\">\n",
       "      <th></th>\n",
       "      <th>source</th>\n",
       "      <th>num1</th>\n",
       "      <th>num2</th>\n",
       "      <th>num3</th>\n",
       "      <th>num4</th>\n",
       "      <th>num5</th>\n",
       "      <th>num6</th>\n",
       "      <th>num7</th>\n",
       "      <th>num8</th>\n",
       "      <th>num9</th>\n",
       "      <th>num10</th>\n",
       "    </tr>\n",
       "  </thead>\n",
       "  <tbody>\n",
       "    <tr>\n",
       "      <th>count</th>\n",
       "      <td>100000.000000</td>\n",
       "      <td>100000.000000</td>\n",
       "      <td>100000.000000</td>\n",
       "      <td>1.000000e+05</td>\n",
       "      <td>1.000000e+05</td>\n",
       "      <td>1.000000e+05</td>\n",
       "      <td>1.000000e+05</td>\n",
       "      <td>1.000000e+05</td>\n",
       "      <td>1.000000e+05</td>\n",
       "      <td>1.000000e+05</td>\n",
       "      <td>1.000000e+05</td>\n",
       "    </tr>\n",
       "    <tr>\n",
       "      <th>mean</th>\n",
       "      <td>2.000000</td>\n",
       "      <td>11950.083060</td>\n",
       "      <td>51685.411310</td>\n",
       "      <td>2.504422e+05</td>\n",
       "      <td>1.245107e+06</td>\n",
       "      <td>6.187386e+06</td>\n",
       "      <td>3.077006e+07</td>\n",
       "      <td>1.520312e+08</td>\n",
       "      <td>7.612703e+08</td>\n",
       "      <td>3.833144e+09</td>\n",
       "      <td>1.938922e+10</td>\n",
       "    </tr>\n",
       "    <tr>\n",
       "      <th>std</th>\n",
       "      <td>1.414221</td>\n",
       "      <td>15613.825993</td>\n",
       "      <td>89605.871215</td>\n",
       "      <td>4.977602e+05</td>\n",
       "      <td>2.764550e+06</td>\n",
       "      <td>1.523474e+07</td>\n",
       "      <td>8.378160e+07</td>\n",
       "      <td>4.521829e+08</td>\n",
       "      <td>2.498748e+09</td>\n",
       "      <td>1.417347e+10</td>\n",
       "      <td>8.046135e+10</td>\n",
       "    </tr>\n",
       "    <tr>\n",
       "      <th>min</th>\n",
       "      <td>0.000000</td>\n",
       "      <td>0.000000</td>\n",
       "      <td>0.000000</td>\n",
       "      <td>0.000000e+00</td>\n",
       "      <td>0.000000e+00</td>\n",
       "      <td>0.000000e+00</td>\n",
       "      <td>0.000000e+00</td>\n",
       "      <td>0.000000e+00</td>\n",
       "      <td>0.000000e+00</td>\n",
       "      <td>0.000000e+00</td>\n",
       "      <td>0.000000e+00</td>\n",
       "    </tr>\n",
       "    <tr>\n",
       "      <th>25%</th>\n",
       "      <td>1.000000</td>\n",
       "      <td>996.750000</td>\n",
       "      <td>1199.000000</td>\n",
       "      <td>1.257000e+03</td>\n",
       "      <td>1.275000e+03</td>\n",
       "      <td>1.285750e+03</td>\n",
       "      <td>1.291000e+03</td>\n",
       "      <td>1.297000e+03</td>\n",
       "      <td>1.302000e+03</td>\n",
       "      <td>1.308000e+03</td>\n",
       "      <td>1.312000e+03</td>\n",
       "    </tr>\n",
       "    <tr>\n",
       "      <th>50%</th>\n",
       "      <td>2.000000</td>\n",
       "      <td>5990.000000</td>\n",
       "      <td>7050.000000</td>\n",
       "      <td>7.407500e+03</td>\n",
       "      <td>7.507000e+03</td>\n",
       "      <td>7.533000e+03</td>\n",
       "      <td>7.548500e+03</td>\n",
       "      <td>7.556500e+03</td>\n",
       "      <td>7.562000e+03</td>\n",
       "      <td>7.567000e+03</td>\n",
       "      <td>7.572000e+03</td>\n",
       "    </tr>\n",
       "    <tr>\n",
       "      <th>75%</th>\n",
       "      <td>3.000000</td>\n",
       "      <td>15805.000000</td>\n",
       "      <td>69462.750000</td>\n",
       "      <td>3.099600e+05</td>\n",
       "      <td>1.395625e+06</td>\n",
       "      <td>6.330012e+06</td>\n",
       "      <td>2.860762e+07</td>\n",
       "      <td>1.311399e+08</td>\n",
       "      <td>5.961233e+08</td>\n",
       "      <td>2.716737e+09</td>\n",
       "      <td>1.239949e+10</td>\n",
       "    </tr>\n",
       "    <tr>\n",
       "      <th>max</th>\n",
       "      <td>4.000000</td>\n",
       "      <td>89982.000000</td>\n",
       "      <td>808461.000000</td>\n",
       "      <td>7.034121e+06</td>\n",
       "      <td>5.539817e+07</td>\n",
       "      <td>4.724970e+08</td>\n",
       "      <td>2.411929e+09</td>\n",
       "      <td>1.804281e+10</td>\n",
       "      <td>1.205850e+11</td>\n",
       "      <td>6.805696e+11</td>\n",
       "      <td>5.927438e+12</td>\n",
       "    </tr>\n",
       "  </tbody>\n",
       "</table>\n",
       "</div>"
      ],
      "text/plain": [
       "              source           num1           num2          num3  \\\n",
       "count  100000.000000  100000.000000  100000.000000  1.000000e+05   \n",
       "mean        2.000000   11950.083060   51685.411310  2.504422e+05   \n",
       "std         1.414221   15613.825993   89605.871215  4.977602e+05   \n",
       "min         0.000000       0.000000       0.000000  0.000000e+00   \n",
       "25%         1.000000     996.750000    1199.000000  1.257000e+03   \n",
       "50%         2.000000    5990.000000    7050.000000  7.407500e+03   \n",
       "75%         3.000000   15805.000000   69462.750000  3.099600e+05   \n",
       "max         4.000000   89982.000000  808461.000000  7.034121e+06   \n",
       "\n",
       "               num4          num5          num6          num7          num8  \\\n",
       "count  1.000000e+05  1.000000e+05  1.000000e+05  1.000000e+05  1.000000e+05   \n",
       "mean   1.245107e+06  6.187386e+06  3.077006e+07  1.520312e+08  7.612703e+08   \n",
       "std    2.764550e+06  1.523474e+07  8.378160e+07  4.521829e+08  2.498748e+09   \n",
       "min    0.000000e+00  0.000000e+00  0.000000e+00  0.000000e+00  0.000000e+00   \n",
       "25%    1.275000e+03  1.285750e+03  1.291000e+03  1.297000e+03  1.302000e+03   \n",
       "50%    7.507000e+03  7.533000e+03  7.548500e+03  7.556500e+03  7.562000e+03   \n",
       "75%    1.395625e+06  6.330012e+06  2.860762e+07  1.311399e+08  5.961233e+08   \n",
       "max    5.539817e+07  4.724970e+08  2.411929e+09  1.804281e+10  1.205850e+11   \n",
       "\n",
       "               num9         num10  \n",
       "count  1.000000e+05  1.000000e+05  \n",
       "mean   3.833144e+09  1.938922e+10  \n",
       "std    1.417347e+10  8.046135e+10  \n",
       "min    0.000000e+00  0.000000e+00  \n",
       "25%    1.308000e+03  1.312000e+03  \n",
       "50%    7.567000e+03  7.572000e+03  \n",
       "75%    2.716737e+09  1.239949e+10  \n",
       "max    6.805696e+11  5.927438e+12  "
      ]
     },
     "execution_count": 87,
     "metadata": {},
     "output_type": "execute_result"
    }
   ],
   "source": [
    "data.describe()"
   ]
  },
  {
   "cell_type": "markdown",
   "metadata": {},
   "source": [
    "### Function TO Remove Outlier"
   ]
  },
  {
   "cell_type": "code",
   "execution_count": 7,
   "metadata": {},
   "outputs": [],
   "source": [
    "def remove_outlier(data):\n",
    "    q1=data.quantile(0.25)\n",
    "    q3=data.quantile(.75)\n",
    "    iqr=q3-q1\n",
    "    data_out=data[~((data<(q1-1.5*iqr))|(data>(q3+1.5*iqr))).any(axis=1)]\n",
    "    print('shape of dataset after removing outleir is ',data_out.shape)\n",
    "    return data_out"
   ]
  },
  {
   "cell_type": "markdown",
   "metadata": {},
   "source": [
    "### Model Comparision "
   ]
  },
  {
   "cell_type": "code",
   "execution_count": 14,
   "metadata": {},
   "outputs": [
    {
     "name": "stdout",
     "output_type": "stream",
     "text": [
      "shape of dataset after removing outleir is  (380055, 11)\n",
      "LR 0.704153 0.002699 \n",
      "LDA 0.581659 0.002091 \n",
      "KNN 0.877275 0.001546 \n",
      "DecisionTree 0.966528 0.000729 \n",
      "NB 0.691278 0.002139 \n",
      "RF 0.851205 0.019897 \n"
     ]
    }
   ],
   "source": [
    "data_out= remove_outlier(data_full) # remove outlier from the data\n",
    "\n",
    "\n",
    "model_selection_function(data_out)"
   ]
  },
  {
   "cell_type": "markdown",
   "metadata": {},
   "source": [
    "### XGboost Model"
   ]
  },
  {
   "cell_type": "code",
   "execution_count": 171,
   "metadata": {},
   "outputs": [
    {
     "name": "stdout",
     "output_type": "stream",
     "text": [
      "Training accuracy is 0.7308338863730051\n",
      "Test accuracy is 0.7251486607377783\n"
     ]
    }
   ],
   "source": [
    "from xgboost import XGBClassifier\n",
    "xgb_clf = XGBClassifier()\n",
    "train_and_test(data_out,xgb_clf)"
   ]
  },
  {
   "cell_type": "markdown",
   "metadata": {},
   "source": [
    "### Since best model is decision tree so we will tune the parameter of the decision tree "
   ]
  },
  {
   "cell_type": "code",
   "execution_count": 205,
   "metadata": {},
   "outputs": [
    {
     "name": "stdout",
     "output_type": "stream",
     "text": [
      "DecisionTreeClassifier(class_weight=None, criterion='gini', max_depth=None,\n",
      "                       max_features=None, max_leaf_nodes=None,\n",
      "                       min_impurity_decrease=0.0, min_impurity_split=None,\n",
      "                       min_samples_leaf=1, min_samples_split=2,\n",
      "                       min_weight_fraction_leaf=0.0, presort=False,\n",
      "                       random_state=None, splitter='best')\n"
     ]
    }
   ],
   "source": [
    "model=DecisionTreeClassifier()\n",
    "pprint(model)"
   ]
  },
  {
   "cell_type": "code",
   "execution_count": null,
   "metadata": {},
   "outputs": [],
   "source": []
  },
  {
   "cell_type": "markdown",
   "metadata": {},
   "source": [
    "### Max Depth of tree "
   ]
  },
  {
   "cell_type": "code",
   "execution_count": 217,
   "metadata": {
    "scrolled": true
   },
   "outputs": [
    {
     "name": "stdout",
     "output_type": "stream",
     "text": [
      "Training accuracy is 0.731102853684706\n",
      "Test accuracy is 0.7248329211177182\n",
      "max_depth  10.0\n",
      "Training accuracy is 0.736654689825142\n",
      "Test accuracy is 0.7315160764089881\n",
      "max_depth  20.0\n",
      "Training accuracy is 0.7402243538206514\n",
      "Test accuracy is 0.734936588959638\n",
      "max_depth  30.0\n",
      "Training accuracy is 0.7414844072048157\n",
      "Test accuracy is 0.735989054359838\n",
      "max_depth  40.0\n",
      "Training accuracy is 0.7424959581814301\n",
      "Test accuracy is 0.7371204546650529\n",
      "max_depth  50.0\n",
      "Training accuracy is 0.7432677774237024\n",
      "Test accuracy is 0.7381729200652528\n",
      "max_depth  60.0\n",
      "Training accuracy is 0.7444196591716391\n",
      "Test accuracy is 0.7391464505604378\n",
      "max_depth  70.0\n",
      "Training accuracy is 0.7455598466886323\n",
      "Test accuracy is 0.7403304741356628\n",
      "max_depth  80.0\n",
      "Training accuracy is 0.7465626269920391\n",
      "Test accuracy is 0.7411724464558228\n",
      "max_depth  90.0\n",
      "Training accuracy is 0.7474309236395955\n",
      "Test accuracy is 0.7418039256959428\n",
      "max_depth  100.0\n",
      "Training accuracy is 0.7535031530570181\n",
      "Test accuracy is 0.7473819923170025\n",
      "max_depth  110.0\n",
      "Training accuracy is 0.7496557510766001\n",
      "Test accuracy is 0.7441982844813977\n",
      "max_depth  120.0\n",
      "Training accuracy is 0.7505328183973641\n",
      "Test accuracy is 0.7446455822764827\n",
      "max_depth  130.0\n",
      "Training accuracy is 0.7523688126554967\n",
      "Test accuracy is 0.7463032152817977\n",
      "max_depth  140.0\n",
      "Training accuracy is 0.754602410765709\n",
      "Test accuracy is 0.7485133926222175\n",
      "max_depth  150.0\n",
      "Training accuracy is 0.7640133431175066\n",
      "Test accuracy is 0.7574067252539073\n",
      "max_depth  160.0\n",
      "Training accuracy is 0.7626071118465483\n",
      "Test accuracy is 0.7544071988633374\n",
      "max_depth  170.0\n",
      "Training accuracy is 0.7724975076670302\n",
      "Test accuracy is 0.763905699100142\n",
      "max_depth  180.0\n",
      "Training accuracy is 0.7758566755055563\n",
      "Test accuracy is 0.767010472030732\n",
      "max_depth  190.0\n",
      "Training accuracy is 0.7750848562632839\n",
      "Test accuracy is 0.766247434615587\n",
      "max_depth  200.0\n",
      "Training accuracy is 0.7787743861259644\n",
      "Test accuracy is 0.7701152449613219\n",
      "max_depth  210.0\n",
      "Training accuracy is 0.7802654005712631\n",
      "Test accuracy is 0.7705099194863969\n",
      "max_depth  220.0\n",
      "Training accuracy is 0.7845484126543273\n",
      "Test accuracy is 0.7752197021522917\n",
      "max_depth  230.0\n",
      "Training accuracy is 0.7886326228113516\n",
      "Test accuracy is 0.7787980845129716\n",
      "max_depth  240.0\n",
      "Training accuracy is 0.7757485038693287\n",
      "Test accuracy is 0.7686154817660369\n",
      "max_depth  250.0\n"
     ]
    },
    {
     "data": {
      "image/png": "[encoded data removed]",
      "text/plain": [
       "<Figure size 432x288 with 1 Axes>"
      ]
     },
     "metadata": {
      "needs_background": "light"
     },
     "output_type": "display_data"
    }
   ],
   "source": [
    "max_depths = np.linspace(10, 250,25)\n",
    "train_results = []\n",
    "test_results = []\n",
    "for max_depth in max_depths:\n",
    "    model = DecisionTreeClassifier(max_depth=max_depth)\n",
    "    a,b=train_and_test(data_out,model)\n",
    "    print('max_depth ',max_depth)\n",
    "    train_results.append(a)\n",
    "    test_results.append(b)\n",
    "line1=plt.plot(max_depths,train_results)\n",
    "line2=plt.plot(max_depths,test_results)\n",
    "plt.show()"
   ]
  },
  {
   "cell_type": "code",
   "execution_count": 219,
   "metadata": {
    "scrolled": true
   },
   "outputs": [
    {
     "name": "stdout",
     "output_type": "stream",
     "text": [
      "Training accuracy is 0.7912872132355305\n",
      "Test accuracy is 0.7810345734883966\n",
      "max_depth  250.0\n",
      "Training accuracy is 0.7940470517382012\n",
      "Test accuracy is 0.7840077882439614\n",
      "max_depth  260.0\n",
      "Training accuracy is 0.8000520393276986\n",
      "Test accuracy is 0.7902699573751513\n",
      "max_depth  270.0\n",
      "Training accuracy is 0.8030428388915039\n",
      "Test accuracy is 0.7927958743356313\n",
      "max_depth  280.0\n",
      "Training accuracy is 0.8027007826364059\n",
      "Test accuracy is 0.7934010419407462\n",
      "max_depth  290.0\n",
      "Training accuracy is 0.8103926630395061\n",
      "Test accuracy is 0.799400094721886\n",
      "max_depth  300.0\n",
      "Training accuracy is 0.8124859303783961\n",
      "Test accuracy is 0.801057727727201\n",
      "max_depth  310.0\n",
      "Training accuracy is 0.8158860280252245\n",
      "Test accuracy is 0.8046624217228858\n",
      "max_depth  320.0\n",
      "Training accuracy is 0.8178448117082641\n",
      "Test accuracy is 0.8061358732831658\n",
      "max_depth  330.0\n",
      "Training accuracy is 0.8181079319044933\n",
      "Test accuracy is 0.8071883386833658\n",
      "max_depth  340.0\n",
      "Training accuracy is 0.8208385348298051\n",
      "Test accuracy is 0.8090564647687207\n",
      "max_depth  350.0\n",
      "Training accuracy is 0.8232153872690755\n",
      "Test accuracy is 0.8108982792190707\n",
      "max_depth  360.0\n",
      "Training accuracy is 0.8023908855164026\n",
      "Test accuracy is 0.7916644740304163\n",
      "max_depth  370.0\n",
      "Training accuracy is 0.8261038623121248\n",
      "Test accuracy is 0.8139767405146556\n",
      "max_depth  380.0\n",
      "Training accuracy is 0.8284748676359235\n",
      "Test accuracy is 0.8160553596800505\n",
      "max_depth  390.0\n",
      "Training accuracy is 0.8293548585144234\n",
      "Test accuracy is 0.8164237225701205\n",
      "max_depth  400.0\n"
     ]
    },
    {
     "data": {
      "image/png": "[encoded data removed]",
      "text/plain": [
       "<Figure size 432x288 with 1 Axes>"
      ]
     },
     "metadata": {
      "needs_background": "light"
     },
     "output_type": "display_data"
    }
   ],
   "source": [
    "max_depths = np.linspace(250, 400,16)\n",
    "train_results = []\n",
    "test_results = []\n",
    "for max_depth in max_depths:\n",
    "    model = DecisionTreeClassifier(max_depth=max_depth)\n",
    "    a,b=train_and_test(data_out,model)\n",
    "    print('max_depth ',max_depth)\n",
    "    train_results.append(a)\n",
    "    test_results.append(b)\n",
    "line1=plt.plot(max_depths,train_results)\n",
    "line2=plt.plot(max_depths,test_results)\n",
    "plt.show()"
   ]
  },
  {
   "cell_type": "code",
   "execution_count": 226,
   "metadata": {
    "scrolled": true
   },
   "outputs": [
    {
     "name": "stdout",
     "output_type": "stream",
     "text": [
      "Training accuracy is 0.9934132244210625\n",
      "Test accuracy is 0.9636110087880861\n",
      "max_depth  2200.0\n",
      "Training accuracy is 0.9999649173071694\n",
      "Test accuracy is 0.9702152291743409\n",
      "max_depth  2400.0\n",
      "Training accuracy is 0.9999649173071694\n",
      "Test accuracy is 0.9704257222543808\n",
      "max_depth  2600.0\n",
      "Training accuracy is 0.9999649173071694\n",
      "Test accuracy is 0.9700573593643109\n",
      "max_depth  2800.0\n",
      "Training accuracy is 0.9999649173071694\n",
      "Test accuracy is 0.969952112824291\n",
      "max_depth  3000.0\n"
     ]
    },
    {
     "data": {
      "image/png": "[encoded data removed]",
      "text/plain": [
       "<Figure size 432x288 with 1 Axes>"
      ]
     },
     "metadata": {
      "needs_background": "light"
     },
     "output_type": "display_data"
    }
   ],
   "source": [
    "max_depths = np.linspace(2200, 3000,5)\n",
    "train_results = []\n",
    "test_results = []\n",
    "for max_depth in max_depths:\n",
    "    model = DecisionTreeClassifier(max_depth=max_depth)\n",
    "    a,b=train_and_test(data_out,model)\n",
    "    print('max_depth ',max_depth)\n",
    "    train_results.append(a)\n",
    "    test_results.append(b)\n",
    "line1=plt.plot(max_depths,train_results)\n",
    "line2=plt.plot(max_depths,test_results)\n",
    "plt.show()"
   ]
  },
  {
   "cell_type": "markdown",
   "metadata": {},
   "source": [
    "### Optimal Value for the max_depths is 2400 from the above graph, which gives Training accuracy of 0.99996 and Test accuracy is 0.97042"
   ]
  },
  {
   "cell_type": "markdown",
   "metadata": {},
   "source": [
    "### Tuning Min sample split"
   ]
  },
  {
   "cell_type": "code",
   "execution_count": 227,
   "metadata": {
    "scrolled": true
   },
   "outputs": [
    {
     "name": "stdout",
     "output_type": "stream",
     "text": [
      "min sample split   2\n",
      "Training accuracy is 0.9999649173071694\n",
      "Test accuracy is 0.9697679313792559\n",
      "min sample split   3\n",
      "Training accuracy is 0.9999561466339618\n",
      "Test accuracy is 0.9702415408093459\n",
      "min sample split   4\n",
      "Training accuracy is 0.9999298346143389\n",
      "Test accuracy is 0.969952112824291\n",
      "min sample split   5\n",
      "Training accuracy is 0.9998099687471678\n",
      "Test accuracy is 0.969899489554281\n",
      "min sample split   6\n",
      "Training accuracy is 0.9996023961479203\n",
      "Test accuracy is 0.9692943219491659\n",
      "min sample split   7\n",
      "Training accuracy is 0.9992311043154636\n",
      "Test accuracy is 0.968452349629006\n",
      "min sample split   8\n",
      "Training accuracy is 0.9986346985373441\n",
      "Test accuracy is 0.968399726358996\n",
      "min sample split   9\n",
      "Training accuracy is 0.9980499869901681\n",
      "Test accuracy is 0.967899805293901\n",
      "min sample split   10\n",
      "Training accuracy is 0.9972781677478958\n",
      "Test accuracy is 0.966821028258696\n"
     ]
    },
    {
     "data": {
      "image/png": "[encoded data removed]",
      "text/plain": [
       "<Figure size 432x288 with 1 Axes>"
      ]
     },
     "metadata": {
      "needs_background": "light"
     },
     "output_type": "display_data"
    }
   ],
   "source": [
    "min_samples_splits = np.linspace(2, 10, 9, endpoint=True,dtype=np.int32)\n",
    "train_results = []\n",
    "test_results = []\n",
    "for min_samples_split in min_samples_splits:\n",
    "    model = DecisionTreeClassifier(max_depth=2400,min_samples_split=min_samples_split)\n",
    "    print('min sample split  ',min_samples_split)\n",
    "    a,b=train_and_test(data_out,model)\n",
    "    train_results.append(a)\n",
    "    test_results.append(b)\n",
    "line1=plt.plot(min_samples_splits,train_results)\n",
    "line2=plt.plot(min_samples_splits,test_results)\n",
    "plt.show()"
   ]
  },
  {
   "cell_type": "markdown",
   "metadata": {},
   "source": [
    "### Min sample split 3 gives best result :Training accuracy is 0.99995 and Test accuracy is 0.97024"
   ]
  },
  {
   "cell_type": "markdown",
   "metadata": {},
   "source": [
    "### Min Sample Leaf "
   ]
  },
  {
   "cell_type": "code",
   "execution_count": 230,
   "metadata": {
    "scrolled": true
   },
   "outputs": [
    {
     "name": "stdout",
     "output_type": "stream",
     "text": [
      "min sample leaf   1\n",
      "Training accuracy is 0.9999561466339618\n",
      "Test accuracy is 0.969425880124191\n",
      "min sample leaf   2\n",
      "Training accuracy is 0.9939423883712567\n",
      "Test accuracy is 0.9597958217123612\n",
      "min sample leaf   3\n",
      "Training accuracy is 0.985025537276823\n",
      "Test accuracy is 0.9478240277850866\n",
      "min sample leaf   4\n",
      "Training accuracy is 0.9741323611529342\n",
      "Test accuracy is 0.9364837130979319\n",
      "min sample leaf   5\n",
      "Training accuracy is 0.9633064268569708\n",
      "Test accuracy is 0.9210914066200073\n",
      "min sample leaf   6\n",
      "Training accuracy is 0.9517028262032633\n",
      "Test accuracy is 0.9105141293479977\n",
      "min sample leaf   7\n",
      "Training accuracy is 0.9411575534499443\n",
      "Test accuracy is 0.898200284165658\n",
      "min sample leaf   8\n",
      "Training accuracy is 0.9300655754000158\n",
      "Test accuracy is 0.8822028100826186\n",
      "min sample leaf   9\n",
      "Training accuracy is 0.9200582372700987\n",
      "Test accuracy is 0.8709151186654739\n",
      "min sample leaf   10\n",
      "Training accuracy is 0.9115185251235934\n",
      "Test accuracy is 0.8618112929537441\n"
     ]
    },
    {
     "data": {
      "image/png": "[encoded data removed]",
      "text/plain": [
       "<Figure size 432x288 with 1 Axes>"
      ]
     },
     "metadata": {
      "needs_background": "light"
     },
     "output_type": "display_data"
    }
   ],
   "source": [
    "min_samples_leafs = np.linspace(1, 10, 10, endpoint=True, dtype=np.int32)\n",
    "train_results = []\n",
    "test_results = []\n",
    "for min_samples_leaf in min_samples_leafs:\n",
    "    model = DecisionTreeClassifier(min_samples_leaf=min_samples_leaf, min_samples_split=3, max_depth=2400)\n",
    "    print('min sample leaf  ',min_samples_leaf)\n",
    "    a,b=train_and_test(data_out,model)\n",
    "    train_results.append(a)\n",
    "    test_results.append(b)\n",
    "line1=plt.plot(min_samples_leafs,train_results)\n",
    "line2=plt.plot(min_samples_leafs,test_results)\n",
    "plt.show()"
   ]
  },
  {
   "cell_type": "markdown",
   "metadata": {},
   "source": [
    "### Min sample leaf 1 gives best result"
   ]
  },
  {
   "cell_type": "markdown",
   "metadata": {},
   "source": [
    "### Max Features "
   ]
  },
  {
   "cell_type": "code",
   "execution_count": 229,
   "metadata": {
    "scrolled": true
   },
   "outputs": [
    {
     "name": "stdout",
     "output_type": "stream",
     "text": [
      "max_features   1\n",
      "Training accuracy is 0.7367833263655207\n",
      "Test accuracy is 0.7373572593800979\n",
      "max_features   2\n",
      "Training accuracy is 0.7404436206508425\n",
      "Test accuracy is 0.7353312634847129\n",
      "max_features   3\n",
      "Training accuracy is 0.7368242561738231\n",
      "Test accuracy is 0.7373835710151029\n",
      "max_features   4\n",
      "Training accuracy is 0.7817417972278825\n",
      "Test accuracy is 0.7734831342419618\n",
      "max_features   5\n",
      "Training accuracy is 0.99995029951849\n",
      "Test accuracy is 0.9725832763247908\n",
      "max_features   6\n",
      "Training accuracy is 0.9999619937494335\n",
      "Test accuracy is 0.9715308109245908\n",
      "max_features   7\n",
      "Training accuracy is 0.9999561466339618\n",
      "Test accuracy is 0.9715571225595958\n",
      "max_features   8\n",
      "Training accuracy is 0.9999561466339618\n",
      "Test accuracy is 0.9697942430142609\n",
      "max_features   9\n",
      "Training accuracy is 0.9999561466339618\n",
      "Test accuracy is 0.9696626848392359\n",
      "max_features   10\n",
      "Training accuracy is 0.9999561466339618\n",
      "Test accuracy is 0.9705835920644109\n"
     ]
    },
    {
     "data": {
      "image/png": "[encoded data removed]",
      "text/plain": [
       "<Figure size 432x288 with 1 Axes>"
      ]
     },
     "metadata": {
      "needs_background": "light"
     },
     "output_type": "display_data"
    }
   ],
   "source": [
    "max_features = list(range(1,data_out.shape[1]))\n",
    "train_results = []\n",
    "test_results = []\n",
    "for max_feature in max_features:\n",
    "    model = DecisionTreeClassifier(min_samples_leaf=1, min_samples_split=3, max_depth=2400, max_features=max_feature)\n",
    "    print('max_features  ',max_feature)\n",
    "    a,b=train_and_test(data_out,model)\n",
    "    train_results.append(a)\n",
    "    test_results.append(b)\n",
    "line1=plt.plot(max_features,train_results)\n",
    "line2=plt.plot(max_features,test_results)\n",
    "plt.show()"
   ]
  },
  {
   "cell_type": "markdown",
   "metadata": {},
   "source": [
    "### From the above curve optimal value for the max features is 5"
   ]
  },
  {
   "cell_type": "markdown",
   "metadata": {},
   "source": [
    "### Prediction after getting best parameter of decision Tree "
   ]
  },
  {
   "cell_type": "code",
   "execution_count": 231,
   "metadata": {},
   "outputs": [
    {
     "name": "stdout",
     "output_type": "stream",
     "text": [
      "Training accuracy is 0.9999444524030183\n",
      "Test accuracy is 0.9713729411145609\n"
     ]
    },
    {
     "data": {
      "text/plain": [
       "(0.9999444524030183, 0.9713729411145609)"
      ]
     },
     "execution_count": 231,
     "metadata": {},
     "output_type": "execute_result"
    }
   ],
   "source": [
    "model = DecisionTreeClassifier(min_samples_leaf=1, min_samples_split=3, max_depth=2400, max_features=5)\n",
    "train_and_test(data_out,model)"
   ]
  },
  {
   "cell_type": "code",
   "execution_count": 212,
   "metadata": {},
   "outputs": [
    {
     "data": {
      "text/plain": [
       "(380055, 11)"
      ]
     },
     "execution_count": 212,
     "metadata": {},
     "output_type": "execute_result"
    }
   ],
   "source": [
    "data_out.shape"
   ]
  },
  {
   "cell_type": "markdown",
   "metadata": {},
   "source": [
    "### Parameter tuning of DecisionTree Using RandomizedSearchCV"
   ]
  },
  {
   "cell_type": "code",
   "execution_count": 12,
   "metadata": {},
   "outputs": [
    {
     "name": "stdout",
     "output_type": "stream",
     "text": [
      "{'max_depth': [2000.0, 2100.0, 2200.0, 2300.0, 2400.0, 2500.0, 2600.0],\n",
      " 'max_features': [1, 2, 3, 4, 5, 6, 7, 8, 9, 10],\n",
      " 'min_samples_leaf': [1, 2, 3, 4, 5, 6, 7, 8, 9, 10],\n",
      " 'min_samples_split': [2, 3, 4, 5, 6, 7, 8, 9, 10]}\n",
      "Fitting 10 folds for each of 100 candidates, totalling 1000 fits\n"
     ]
    },
    {
     "name": "stderr",
     "output_type": "stream",
     "text": [
      "[Parallel(n_jobs=-1)]: Using backend LokyBackend with 8 concurrent workers.\n",
      "[Parallel(n_jobs=-1)]: Done  25 tasks      | elapsed:  1.7min\n",
      "[Parallel(n_jobs=-1)]: Done 146 tasks      | elapsed: 25.3min\n",
      "[Parallel(n_jobs=-1)]: Done 349 tasks      | elapsed: 63.8min\n",
      "[Parallel(n_jobs=-1)]: Done 632 tasks      | elapsed: 101.9min\n",
      "[Parallel(n_jobs=-1)]: Done 1000 out of 1000 | elapsed: 162.2min finished\n"
     ]
    },
    {
     "name": "stdout",
     "output_type": "stream",
     "text": [
      "Best params of the model \n",
      "{'max_depth': 2400.0,\n",
      " 'max_features': 6,\n",
      " 'min_samples_leaf': 1,\n",
      " 'min_samples_split': 6}\n"
     ]
    }
   ],
   "source": [
    "dt=tune_Decision_tree(data_out)"
   ]
  },
  {
   "cell_type": "markdown",
   "metadata": {},
   "source": [
    "### Training and Testing of decision tree after getting best params by RamdomizeSearchCV"
   ]
  },
  {
   "cell_type": "code",
   "execution_count": 13,
   "metadata": {},
   "outputs": [
    {
     "name": "stdout",
     "output_type": "stream",
     "text": [
      "Training accuracy is 0.9995205365313157\n",
      "Test accuracy is 0.9709519549544808\n"
     ]
    },
    {
     "data": {
      "text/plain": [
       "(0.9995205365313157, 0.9709519549544808)"
      ]
     },
     "execution_count": 13,
     "metadata": {},
     "output_type": "execute_result"
    }
   ],
   "source": [
    "model = DecisionTreeClassifier(min_samples_leaf=1, min_samples_split=6, max_depth=2400, max_features=6)\n",
    "train_and_test(data_out,model)"
   ]
  },
  {
   "cell_type": "code",
   "execution_count": null,
   "metadata": {},
   "outputs": [],
   "source": [
    "model = DecisionTreeClassifier(min_samples_leaf=1, min_samples_split=2, max_depth=2100, max_features=9)\n",
    "train_and_test_cv(data_out,model)"
   ]
  },
  {
   "cell_type": "code",
   "execution_count": null,
   "metadata": {},
   "outputs": [],
   "source": []
  }
 ],
 "metadata": {
  "kernelspec": {
   "display_name": "Python 3",
   "language": "python",
   "name": "python3"
  },
  "language_info": {
   "codemirror_mode": {
    "name": "ipython",
    "version": 3
   },
   "file_extension": ".py",
   "mimetype": "text/x-python",
   "name": "python",
   "nbconvert_exporter": "python",
   "pygments_lexer": "ipython3",
   "version": "3.7.3"
  }
 },
 "nbformat": 4,
 "nbformat_minor": 2
}
